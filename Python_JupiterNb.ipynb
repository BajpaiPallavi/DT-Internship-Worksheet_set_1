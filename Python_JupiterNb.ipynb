{
 "cells": [
  {
   "cell_type": "code",
   "execution_count": 21,
   "id": "6fd508ff",
   "metadata": {},
   "outputs": [
    {
     "name": "stdout",
     "output_type": "stream",
     "text": [
      "Factorial of 7 is 5040\n"
     ]
    }
   ],
   "source": [
    "#Finding factorial\n",
    "def checkFactorial(num):\n",
    "    if num == 0 or num == 1:\n",
    "        return 1\n",
    "    elif num < 0:\n",
    "        return 0\n",
    "    else:\n",
    "        factorial = 1\n",
    "        while(num > 1):\n",
    "            factorial *= num\n",
    "            num -= 1\n",
    "        return factorial\n",
    "num1 = 7;\n",
    "print(\"Factorial of\",num1,\"is\",\n",
    "checkFactorial(num1))\n"
   ]
  },
  {
   "cell_type": "code",
   "execution_count": 48,
   "id": "bd012f64",
   "metadata": {},
   "outputs": [
    {
     "name": "stdout",
     "output_type": "stream",
     "text": [
      "19 is prime\n"
     ]
    }
   ],
   "source": [
    "#Checking Prime/Composite\n",
    "Num = 19\n",
    "def primeComposite(num):\n",
    "    if num > 1:\n",
    "        for i in range(2, int(num/2)+1):\n",
    "            if (num % i) == 0:\n",
    "                return 1\n",
    "        return 0\n",
    "    else:\n",
    "        return 0\n",
    "\n",
    "if primeComposite(Num):\n",
    "    print(Num, \"is composite\")\n",
    "else:\n",
    "    print(Num, \"is prime\")"
   ]
  },
  {
   "cell_type": "code",
   "execution_count": 68,
   "id": "a19f1cee",
   "metadata": {},
   "outputs": [
    {
     "name": "stdout",
     "output_type": "stream",
     "text": [
      "madam is palindrome\n"
     ]
    }
   ],
   "source": [
    "# Finding palindrome\n",
    "def checkPalindrome(str1):\n",
    "    return str1 == str1[::-1]\n",
    " \n",
    " \n",
    "str1 = \"madam\"\n",
    "ans = checkPalindrome(str1)\n",
    " \n",
    "if ans:\n",
    "    print(str1, \"is palindrome\")\n",
    "else:\n",
    "    print(str1, \"is not palindrome\")"
   ]
  },
  {
   "cell_type": "code",
   "execution_count": 79,
   "id": "097b988f",
   "metadata": {},
   "outputs": [
    {
     "name": "stdout",
     "output_type": "stream",
     "text": [
      "base is :  5.0\n"
     ]
    }
   ],
   "source": [
    "# Finding third side of right-angled triangle from two given sides.\n",
    "def getBase(he,hypo):\n",
    "    bas = ((he**2)+(hypo**2))**0.5\n",
    "    return bas\n",
    "height = 4\n",
    "hypotenuse = 3\n",
    "print(\"base is : \",getBase(height,hypotenuse))"
   ]
  },
  {
   "cell_type": "code",
   "execution_count": 59,
   "id": "1fc4651b",
   "metadata": {},
   "outputs": [
    {
     "name": "stdout",
     "output_type": "stream",
     "text": [
      "{}\n",
      "Count of all characters in GeeksforGeeks is :\n",
      " {'G': 2, 'e': 4, 'k': 2, 's': 2, 'f': 1, 'o': 1, 'r': 1}\n"
     ]
    }
   ],
   "source": [
    "#Finding frequency of each of the characters present in a given string\n",
    "test_str = \"GeeksforGeeks\"\n",
    "\n",
    "all_freq = {}\n",
    "\n",
    "for i in test_str:\n",
    "    if i in all_freq:\n",
    "        all_freq[i] += 1\n",
    "    else:\n",
    "        all_freq[i] = 1\n",
    "print (\"Count of all characters in GeeksforGeeks is :\\n \"\n",
    "                                        +  str(all_freq))"
   ]
  },
  {
   "cell_type": "code",
   "execution_count": null,
   "id": "6fa4d822",
   "metadata": {},
   "outputs": [],
   "source": []
  },
  {
   "cell_type": "code",
   "execution_count": null,
   "id": "fa42fe3b",
   "metadata": {},
   "outputs": [],
   "source": []
  },
  {
   "cell_type": "code",
   "execution_count": null,
   "id": "ac0aa405",
   "metadata": {},
   "outputs": [],
   "source": []
  }
 ],
 "metadata": {
  "kernelspec": {
   "display_name": "Python 3",
   "language": "python",
   "name": "python3"
  },
  "language_info": {
   "codemirror_mode": {
    "name": "ipython",
    "version": 3
   },
   "file_extension": ".py",
   "mimetype": "text/x-python",
   "name": "python",
   "nbconvert_exporter": "python",
   "pygments_lexer": "ipython3",
   "version": "3.8.8"
  }
 },
 "nbformat": 4,
 "nbformat_minor": 5
}
